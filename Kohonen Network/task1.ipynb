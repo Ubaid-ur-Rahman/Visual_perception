{
 "cells": [
  {
   "attachments": {},
   "cell_type": "markdown",
   "metadata": {},
   "source": [
    "The ultimate aim will be to automatically detect patients and healthy subjects (controls) using data from markers placed on the subjects. For classification you will use a self organizing map (SOM). In this part you will construct the SOM. "
   ]
  },
  {
   "attachments": {},
   "cell_type": "markdown",
   "metadata": {},
   "source": [
    "To construct a Kohonen network for classification using the given vectors, I can utilize the minisom library in Python. This library provides an implementation of a self-organizing map (SOM) algorithm. \n",
    "First I will import th library and create the kohonen network."
   ]
  },
  {
   "cell_type": "code",
   "execution_count": 1,
   "metadata": {},
   "outputs": [],
   "source": [
    "from minisom import MiniSom\n",
    "import numpy as np\n",
    "\n",
    "# Define the input vectors\n",
    "vectors = np.array([\n",
    "    [1, 1, 0, 0],\n",
    "    [1, 0, 0, 0],\n",
    "    [0, 0, 0, 1],\n",
    "    [0, 0, 1, 1]\n",
    "])\n",
    "\n",
    "# Define the dimensions of the Kohonen network\n",
    "input_shape = vectors.shape[1]\n",
    "network_shape = (5, 5)  # Adjust the network shape as needed\n",
    "\n",
    "# Create the Kohonen network\n",
    "network = MiniSom(network_shape[0], network_shape[1], input_shape, sigma=0.5, learning_rate=0.5)\n"
   ]
  },
  {
   "attachments": {},
   "cell_type": "markdown",
   "metadata": {},
   "source": [
    "Now I will train the kohonen network using the input vectors. \n",
    "\n",
    "I will initialize the weights of the network randomly using the input vectors. Then, i wil train the network for a specified number of iterations using the train_batch method."
   ]
  },
  {
   "cell_type": "code",
   "execution_count": 2,
   "metadata": {},
   "outputs": [],
   "source": [
    "# Initialize the weights randomly\n",
    "network.random_weights_init(vectors)\n",
    "\n",
    "# Train the network\n",
    "num_iterations = 1000  # Adjust the number of iterations as needed\n",
    "network.train_batch(vectors, num_iterations)\n"
   ]
  },
  {
   "attachments": {},
   "cell_type": "markdown",
   "metadata": {},
   "source": [
    "Then the prposed code will iterates over the input vectors and use the winner method of the network to determine the winning neuron for each vector. Based on the winning neuron's position, the vectors will be classified into Class I or Class II. The indices of the vectors belonging to each class will be printed as the classification results."
   ]
  },
  {
   "cell_type": "code",
   "execution_count": 3,
   "metadata": {},
   "outputs": [
    {
     "name": "stdout",
     "output_type": "stream",
     "text": [
      "Class I indices: [2]\n",
      "Class II indices: [0, 1, 3]\n"
     ]
    }
   ],
   "source": [
    "# Classify the input vectors\n",
    "class_I_indices = []\n",
    "class_II_indices = []\n",
    "\n",
    "for i, vector in enumerate(vectors):\n",
    "    winner = network.winner(vector)\n",
    "    if winner == (0, 0) or winner == (1, 0):\n",
    "        class_I_indices.append(i)\n",
    "    else:\n",
    "        class_II_indices.append(i)\n",
    "\n",
    "# Print the classification results\n",
    "print(\"Class I indices:\", class_I_indices)\n",
    "print(\"Class II indices:\", class_II_indices)"
   ]
  },
  {
   "attachments": {},
   "cell_type": "markdown",
   "metadata": {},
   "source": [
    "Then i will define the test vectors"
   ]
  },
  {
   "cell_type": "code",
   "execution_count": 4,
   "metadata": {},
   "outputs": [],
   "source": [
    "test_vectors = np.array([\n",
    "    [0, 0, 0, 0.9],\n",
    "    [0, 0, 0.8, 0.9],\n",
    "    [0.7, 0, 0, 0],\n",
    "    [0.7, 0.9, 0, 0]\n",
    "])"
   ]
  },
  {
   "attachments": {},
   "cell_type": "markdown",
   "metadata": {},
   "source": [
    "Then I will classify the vectors and display th results."
   ]
  },
  {
   "cell_type": "code",
   "execution_count": 5,
   "metadata": {},
   "outputs": [
    {
     "name": "stdout",
     "output_type": "stream",
     "text": [
      "Test Class I indices: []\n",
      "Test Class II indices: [0, 1, 2, 3]\n"
     ]
    }
   ],
   "source": [
    "# Classify the test vectors\n",
    "test_class_I_indices = []\n",
    "test_class_II_indices = []\n",
    "\n",
    "for i, vector in enumerate(test_vectors):\n",
    "    winner = network.winner(vector)\n",
    "    if winner == (0, 0) or winner == (1, 0):\n",
    "        test_class_I_indices.append(i)\n",
    "    else:\n",
    "        test_class_II_indices.append(i)\n",
    "\n",
    "# Print the classification results for the test vectors\n",
    "print(\"Test Class I indices:\", test_class_I_indices)\n",
    "print(\"Test Class II indices:\", test_class_II_indices)"
   ]
  }
 ],
 "metadata": {
  "kernelspec": {
   "display_name": "Python 3",
   "language": "python",
   "name": "python3"
  },
  "language_info": {
   "codemirror_mode": {
    "name": "ipython",
    "version": 3
   },
   "file_extension": ".py",
   "mimetype": "text/x-python",
   "name": "python",
   "nbconvert_exporter": "python",
   "pygments_lexer": "ipython3",
   "version": "3.10.11"
  },
  "orig_nbformat": 4
 },
 "nbformat": 4,
 "nbformat_minor": 2
}
